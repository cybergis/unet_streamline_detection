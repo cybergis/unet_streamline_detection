{
 "cells": [
  {
   "cell_type": "markdown",
   "metadata": {
    "colab_type": "text",
    "id": "fPd4Wlro5cep"
   },
   "source": [
    "<h1 style=\"text-align:center;line-height:1.5em;font-size:30px;\">Data and Scripts <br>for Hydrological Streamline Detection Using a U-net model</h1>\n",
    "<p style=\"text-align:center;font-size:12px;\">\n",
    "$Zewei$ $Xu^{1,2,4}$, $Nattapon Jaroenchai^{1,2,4}$, $Arpan Man Sainju^{3,5}$; $Zhiyu Li^{1,2,4}$; $Larry Stanislawski^{6}$; $Ethan Shavers^{6}$; $Bin Su^{1,2,4}$; $Zhe Jiang^{3,5}$;$Shaowen Wang^{1,2,4}$\n",
    "</p>\n",
    "<p style=\"text-align:center;font-size:12px;\">\n",
    "$^{1}$$CyberGIS Center for Advanced Digital and Spatial Studies$<br>\n",
    "$^{2}$$Department of Geography and Geographic Information Science$<br>\n",
    "$^{3}$$Department of Computer Science$<br>\n",
    "$^{4}$$University of Illinois at Urbana-Champaign$<br>\n",
    "$^{5}$$University of Alabama$<br>\n",
    "$^{6}$$U.S. Geological Survey$<br>\n",
    "$Corresponding Author: zeweixu2@illinois.edu$\n",
    "    </p>\n",
    "\n",
    "---\n",
    "\n",
    "    \n",
    "**Notebook Structure:**\n",
    "- [Introduction](1_introduction.ipynb)\n",
    "- Codes\n",
    " - [Data Preprocessing](2.1_Code_Data_Preprocessing.ipynb)\n",
    " - [Model Training](2.2_Code_Model_Training.ipynb)\n",
    " - [Interpret the Result](2.3_Code_Interpret_the_Result.ipynb) "
   ]
  },
  {
   "cell_type": "markdown",
   "metadata": {
    "colab_type": "text",
    "id": "2WDWxze_5cer"
   },
   "source": [
    "---\n",
    "\n",
    "### Introduction\n",
    "\n",
    "Surface water is an irreplaceable strategic resource for human survival and social development. Accurate delineation of hydrologic streamlines, which represent one of the major forms of land surface water, is critically important for various scientific disciplines, such as water resources assessment, climate modelling, agricultural suitability, river dynamics, wetland inventory, watershed analysis, surface water surveying and management, flood mapping, and environmental monitoring. Traditional hydrological models depend largely on topographic information, which inevitably contain errors. For example, when deriving drainage lines from elevation, dry drainage channels are likely to be falsely recognized as streamlines, and roads or bridges can act as barriers forcing flowlines along the roadway rather than under the bridge or through a culvert. Traditional methods also generally ignore the information about the complex 3D environment of stream channels as well as surface reflectance, which is potentially very useful for accurately delineating streamlines. In recent years, the availability of high accuracy LiDAR data provides a promising method to capture both the 3D environment structure and the land surface reflectance information. Terrestrial LiDAR sensors use NIR light in the form of a pulsed laser to measure range (variable distances) to a surface and reflectance intensity for multiple returns. These light pulses generate precise, three-dimensional information about the shape and characteristics of reflecting surfaces. In this research, multiple LiDAR features maps are generated, and we developed a deep learning model based on the U-Net architecture and attention mechanism for streamline detection. We also compared the deep learning model with several traditional machine learning methods as baseline. An advanced cyberinfrastructure is used for computing power and CyberGIS-Jupyter is applied for research reproducibility. An accuracy evaluation indicates the attention U-net model outperforms the best baseline method by 8.08% on average by F1-score, and it provides better smoothness and connectivity over the predicted streamlines.\n"
   ]
  },
  {
   "cell_type": "markdown",
   "metadata": {
    "colab_type": "text",
    "id": "GnDobWim5cet"
   },
   "source": [
    "### Research Objectives\n",
    "- To implement a U-Net Convolutional Neural Network model with cyberinfrastructure to identify streamlines and diffuse knowledge (reproducibility!)\n",
    "- To understand the role of parameterization in model performance\n",
    "- To compare the results and accuracy from the U-Net CNN model with those from traditional methods for streamline identification\n",
    "- Build the foundation for a model that can more accurately and efficiently identify streamlines and is scalable (replicability!)\n",
    "- Further the discourse of R&R in CyberGIScience, and develop lifelong collaborative partners and friends\n"
   ]
  },
  {
   "cell_type": "markdown",
   "metadata": {
    "colab_type": "text",
    "id": "eWimkBn35cev"
   },
   "source": [
    "---\n",
    "### Input Dataset\n",
    "\n",
    "**Data format:** las (raw LiDAR data),tiff (feature maps), and numpy array (organized data)\n",
    "\n",
    "  - **Panther_LiDAR:** Store LiDAR point cloud data (.las) (e.g. IA_Statewide_2008_009081.las, naming format: State_projection_year_pathlines)\n",
    "\n",
    "  - **Rowan_LiDAR:** Store LiDAR point cloud data (e.g. 0_1.las, naming forma8: row_number+column_number from the top-left corner of the research area), organized LiDAR feature maps and reference data under data folde under data folder.\n",
    "\n",
    "  - **mask.npy:** The mask of research area. 1 indicates research area. 0 indicates outside area.\n",
    "\n",
    "  - **reference.npy:** numpy array format of reference data. 1 indicates streamlines, 0 indicates non-streamlines\n",
    "\n",
    "  - **total.npy:** total prediction data of all feature maps\n",
    "\n",
    "  - **TIFF:** All of the feature maps are derived from the ground return of LiDAR point clouds:\n",
    "\n",
    "    **(1) DEM(digital elevation model):** a 1-m resolution digital elevation model (DEM) derived from the ground return points.\n",
    "\n",
    "    **(2) Curvature map:** geometric curvature determined from the DEM. Geometric curvature is determined using GeoNet software (Sangireddy, et al., 2016). The software applies the non-linear diffusion Perona-Malik filter on the DEM to remove noise and sharpen the localization of channels (Passalacqua et al., 2010).\n",
    "\n",
    "    **(3) TPI1:** a topographic position index (TPI) derived from the DEM using a 3-cell by 3-cell window. The TPI value of a cell is the difference between the cell elevation and the local average elevation within a specific radius or within a surrounding window of cells (De Reu et al., 2013).\n",
    "\n",
    "    **(4) TPI2:** a TPI derived from the DEM using a 21-cell by 21-cell window.\n",
    "\n",
    "    **(5) Geomorphon openness:** zenith angle openness derived from the DEM using a 10-cell radius with 32 directions (Doneus, 2013).\n",
    "\n",
    "    **(6) Intensity:** return intensity determined from the lidar ground points averaged with inverse distance weighting using 10 nearest points.\n",
    "\n",
    "    **(7) DSM1:** point density for return points between zero and 1 foot above ground.\n",
    "\n",
    "    **(8) DSM2:** point density for return points between 0 and 3 feet above ground.\n",
    "\n",
    "curvature, DSM1 (digital surface model with 1feet below), DSM2 (digital surface model with 3feet below), geomorphon openness, LiDAR ground reflectance, TPI1 (topological position index with 21 moving window size), TPI2 (topological position index with 3 moving window size), reference image."
   ]
  },
  {
   "cell_type": "code",
   "execution_count": 1,
   "metadata": {
    "colab": {
     "base_uri": "https://localhost:8080/",
     "height": 1000
    },
    "colab_type": "code",
    "executionInfo": {
     "elapsed": 7519,
     "status": "ok",
     "timestamp": 1583961953146,
     "user": {
      "displayName": "nattapon jaroenchai",
      "photoUrl": "https://lh3.googleusercontent.com/a-/AOh14Gj9i_TMlYzv27Vkas3v5qWkW7ZdTBQme3RVKqYp7c4=s64",
      "userId": "17092454241854925654"
     },
     "user_tz": 300
    },
    "id": "hoI2JA6_5cew",
    "outputId": "465206ce-7d07-44a8-f7a5-6eba4e4aa24a",
    "scrolled": false
   },
   "outputs": [
    {
     "ename": "NameError",
     "evalue": "name 'root' is not defined",
     "output_type": "error",
     "traceback": [
      "\u001b[0;31m---------------------------------------------------------------------------\u001b[0m",
      "\u001b[0;31mNameError\u001b[0m                                 Traceback (most recent call last)",
      "\u001b[0;32m<ipython-input-1-1aa22d279dd5>\u001b[0m in \u001b[0;36m<module>\u001b[0;34m\u001b[0m\n\u001b[1;32m     46\u001b[0m \u001b[0;34m\u001b[0m\u001b[0m\n\u001b[1;32m     47\u001b[0m \u001b[0;31m#The path to the TIF files\u001b[0m\u001b[0;34m\u001b[0m\u001b[0;34m\u001b[0m\u001b[0;34m\u001b[0m\u001b[0m\n\u001b[0;32m---> 48\u001b[0;31m feats_name = [root+'Pics/reference/reference.tif',\n\u001b[0m\u001b[1;32m     49\u001b[0m               \u001b[0mroot\u001b[0m\u001b[0;34m+\u001b[0m\u001b[0;34m'Pics/DEM.tif'\u001b[0m\u001b[0;34m,\u001b[0m\u001b[0;34m\u001b[0m\u001b[0;34m\u001b[0m\u001b[0m\n\u001b[1;32m     50\u001b[0m               \u001b[0mroot\u001b[0m\u001b[0;34m+\u001b[0m\u001b[0;34m'Pics/LiDAR_relectance.tif'\u001b[0m\u001b[0;34m,\u001b[0m\u001b[0;34m\u001b[0m\u001b[0;34m\u001b[0m\u001b[0m\n",
      "\u001b[0;31mNameError\u001b[0m: name 'root' is not defined"
     ]
    }
   ],
   "source": [
    "## Visualization of reference data\n",
    "import numpy as np\n",
    "import os\n",
    "import gdal\n",
    "import matplotlib.pyplot as plt\n",
    "import os.path\n",
    "from os import path\n",
    "\n",
    "#Define function for tif file ploting\n",
    "def read_plot_data(name, label):\n",
    "    ds = gdal.Open(name)\n",
    "    if ds.RasterCount > 1:\n",
    "        for i in range(3):\n",
    "            #If the image has more than 1 band,\n",
    "            #commbine Red, Green, and Blue bands \n",
    "            temp = ds.GetRasterBand(i+1).ReadAsArray()[:,:,np.newaxis]\n",
    "            if i == 0:\n",
    "                cc = temp\n",
    "            else:\n",
    "                cc = np.concatenate((cc,temp),axis = 2)\n",
    "        fig= plt.figure(figsize=(16,16))\n",
    "        plt.title(label, fontsize=16)\n",
    "        plt.imshow(cc)\n",
    "        plt.show()\n",
    "        \n",
    "    else:\n",
    "        #If the image has 1 band, plot the image \n",
    "        data = ds.GetRasterBand(1).ReadAsArray()\n",
    "        fig= plt.figure(figsize=(10,10))\n",
    "        plt.title(label, fontsize=16)\n",
    "        plt.imshow(data,cmap='gray',vmin=0, vmax=255)\n",
    "        plt.show()\n",
    "\n",
    "root=\"./\"\n",
    "\n",
    "counter = 0\n",
    "#Label for each image\n",
    "labels = [\"Reference Data\",\n",
    "         \"Digital Elevation Model (DEM)\",\n",
    "         \"The Reflectance Values from LiDAR Datum\",\n",
    "         \"Digital Surface Model (DSM) 3 feet below\", \n",
    "         \"Digital Surface Model (DSM) 1 feet below\",\n",
    "         \"Topographic Position Index (TPI)with moving window size 21\",\n",
    "         \"Topographic Position Index (TPI)with moving window size 3\",\n",
    "         \"Topological Curvature\",\n",
    "         \"Geomorphon Openness\"]\n",
    "\n",
    "#The path to the TIF files\n",
    "feats_name = [root+'data/TIFF/reference/reference.tif',\n",
    "              root+'data/TIFF//DEM.tif',\n",
    "              root+'data/TIFF//LiDAR_relectance.tif',\n",
    "              root+'data/TIFF//DSM_3ft_below.tif',\n",
    "              root+'data/TIFF//DSM_1ft_below.tif',\n",
    "              root+'data/TIFF//TPI_ws21_Clip21.tif',\n",
    "              root+'data/TIFF//TPI_ws3_Clip1.tif',\n",
    "              root+'data/TIFF//Curvature.tif',\n",
    "              root+'data/TIFF//Geomorphon.tif']\n",
    "\n",
    "for i in feats_name:\n",
    "    path.exists(i)\n",
    "    read_plot_data(i, labels[counter])\n",
    "    counter = counter+1"
   ]
  }
 ],
 "metadata": {
  "colab": {
   "name": "1_Introduction.ipynb",
   "provenance": []
  },
  "kernelspec": {
   "display_name": "Python 3",
   "language": "python",
   "name": "python3"
  },
  "language_info": {
   "codemirror_mode": {
    "name": "ipython",
    "version": 3
   },
   "file_extension": ".py",
   "mimetype": "text/x-python",
   "name": "python",
   "nbconvert_exporter": "python",
   "pygments_lexer": "ipython3",
   "version": "3.6.7"
  }
 },
 "nbformat": 4,
 "nbformat_minor": 1
}
